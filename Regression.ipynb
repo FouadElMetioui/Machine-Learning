{
 "cells": [
  {
   "cell_type": "markdown",
   "id": "d4d41ee6",
   "metadata": {},
   "source": [
    "# I - Data Visualisation"
   ]
  },
  {
   "cell_type": "code",
   "execution_count": 1,
   "id": "2ebc569a",
   "metadata": {},
   "outputs": [],
   "source": [
    "# imports bib\n",
    "import numpy as np\n",
    "import pandas as pd\n",
    "import matplotlib.pyplot as plt\n",
    "import seaborn as sns \n",
    "from pandas.plotting import scatter_matrix\n",
    "\n",
    "from sklearn.model_selection import train_test_split \n",
    "from sklearn.linear_model import LinearRegression \n",
    "\n",
    "from sklearn import metrics\n",
    "\n",
    "from sklearn.preprocessing import PolynomialFeatures\n",
    "from sklearn.metrics import r2_score"
   ]
  },
  {
   "cell_type": "code",
   "execution_count": 2,
   "id": "16bbcfd8",
   "metadata": {},
   "outputs": [],
   "source": [
    "# exploration de data avec pandas\n",
    "df_salaire = pd.read_csv(\"datasets/Salary_Data.csv\")\n",
    "df_assurance =  pd.read_csv(\"datasets/insurance.csv\")"
   ]
  },
  {
   "cell_type": "code",
   "execution_count": 3,
   "id": "d6bca3fe",
   "metadata": {},
   "outputs": [
    {
     "data": {
      "text/html": [
       "<div>\n",
       "<style scoped>\n",
       "    .dataframe tbody tr th:only-of-type {\n",
       "        vertical-align: middle;\n",
       "    }\n",
       "\n",
       "    .dataframe tbody tr th {\n",
       "        vertical-align: top;\n",
       "    }\n",
       "\n",
       "    .dataframe thead th {\n",
       "        text-align: right;\n",
       "    }\n",
       "</style>\n",
       "<table border=\"1\" class=\"dataframe\">\n",
       "  <thead>\n",
       "    <tr style=\"text-align: right;\">\n",
       "      <th></th>\n",
       "      <th>YearsExperience</th>\n",
       "      <th>Salary</th>\n",
       "    </tr>\n",
       "  </thead>\n",
       "  <tbody>\n",
       "    <tr>\n",
       "      <th>0</th>\n",
       "      <td>1.1</td>\n",
       "      <td>39343.0</td>\n",
       "    </tr>\n",
       "    <tr>\n",
       "      <th>1</th>\n",
       "      <td>1.3</td>\n",
       "      <td>46205.0</td>\n",
       "    </tr>\n",
       "    <tr>\n",
       "      <th>2</th>\n",
       "      <td>1.5</td>\n",
       "      <td>37731.0</td>\n",
       "    </tr>\n",
       "  </tbody>\n",
       "</table>\n",
       "</div>"
      ],
      "text/plain": [
       "   YearsExperience   Salary\n",
       "0              1.1  39343.0\n",
       "1              1.3  46205.0\n",
       "2              1.5  37731.0"
      ]
     },
     "execution_count": 3,
     "metadata": {},
     "output_type": "execute_result"
    }
   ],
   "source": [
    "# afficher les trois premier lignes de dataset salaire\n",
    "df_salaire.head(3)"
   ]
  },
  {
   "cell_type": "code",
   "execution_count": 4,
   "id": "0b66248c",
   "metadata": {
    "scrolled": false
   },
   "outputs": [
    {
     "data": {
      "text/html": [
       "<div>\n",
       "<style scoped>\n",
       "    .dataframe tbody tr th:only-of-type {\n",
       "        vertical-align: middle;\n",
       "    }\n",
       "\n",
       "    .dataframe tbody tr th {\n",
       "        vertical-align: top;\n",
       "    }\n",
       "\n",
       "    .dataframe thead th {\n",
       "        text-align: right;\n",
       "    }\n",
       "</style>\n",
       "<table border=\"1\" class=\"dataframe\">\n",
       "  <thead>\n",
       "    <tr style=\"text-align: right;\">\n",
       "      <th></th>\n",
       "      <th>age</th>\n",
       "      <th>sex</th>\n",
       "      <th>bmi</th>\n",
       "      <th>children</th>\n",
       "      <th>smoker</th>\n",
       "      <th>region</th>\n",
       "      <th>charges</th>\n",
       "    </tr>\n",
       "  </thead>\n",
       "  <tbody>\n",
       "    <tr>\n",
       "      <th>0</th>\n",
       "      <td>19</td>\n",
       "      <td>female</td>\n",
       "      <td>27.90</td>\n",
       "      <td>0</td>\n",
       "      <td>yes</td>\n",
       "      <td>southwest</td>\n",
       "      <td>16884.9240</td>\n",
       "    </tr>\n",
       "    <tr>\n",
       "      <th>1</th>\n",
       "      <td>18</td>\n",
       "      <td>male</td>\n",
       "      <td>33.77</td>\n",
       "      <td>1</td>\n",
       "      <td>no</td>\n",
       "      <td>southeast</td>\n",
       "      <td>1725.5523</td>\n",
       "    </tr>\n",
       "    <tr>\n",
       "      <th>2</th>\n",
       "      <td>28</td>\n",
       "      <td>male</td>\n",
       "      <td>33.00</td>\n",
       "      <td>3</td>\n",
       "      <td>no</td>\n",
       "      <td>southeast</td>\n",
       "      <td>4449.4620</td>\n",
       "    </tr>\n",
       "  </tbody>\n",
       "</table>\n",
       "</div>"
      ],
      "text/plain": [
       "   age     sex    bmi  children smoker     region     charges\n",
       "0   19  female  27.90         0    yes  southwest  16884.9240\n",
       "1   18    male  33.77         1     no  southeast   1725.5523\n",
       "2   28    male  33.00         3     no  southeast   4449.4620"
      ]
     },
     "execution_count": 4,
     "metadata": {},
     "output_type": "execute_result"
    }
   ],
   "source": [
    "# afficher les trois premier lignes de dataset assurance\n",
    "df_assurance.head(3)"
   ]
  },
  {
   "cell_type": "code",
   "execution_count": 5,
   "id": "8ea1ff48",
   "metadata": {},
   "outputs": [],
   "source": [
    "# rendre les colonnes region et smoker numerique\n",
    "df_assurance['smoker'] = pd.get_dummies(df_assurance['smoker'] , drop_first=1)\n",
    "df_assurance['sex'] = pd.get_dummies(df_assurance['sex'] , drop_first=1) \n",
    "df_assurance['region'] = df_assurance['region'].map({'southwest':0 , 'southeast': 1,'northwest':2,'northeast':3})"
   ]
  },
  {
   "cell_type": "code",
   "execution_count": 6,
   "id": "f13f7a3b",
   "metadata": {
    "scrolled": true
   },
   "outputs": [
    {
     "data": {
      "text/html": [
       "<div>\n",
       "<style scoped>\n",
       "    .dataframe tbody tr th:only-of-type {\n",
       "        vertical-align: middle;\n",
       "    }\n",
       "\n",
       "    .dataframe tbody tr th {\n",
       "        vertical-align: top;\n",
       "    }\n",
       "\n",
       "    .dataframe thead th {\n",
       "        text-align: right;\n",
       "    }\n",
       "</style>\n",
       "<table border=\"1\" class=\"dataframe\">\n",
       "  <thead>\n",
       "    <tr style=\"text-align: right;\">\n",
       "      <th></th>\n",
       "      <th>YearsExperience</th>\n",
       "      <th>Salary</th>\n",
       "    </tr>\n",
       "  </thead>\n",
       "  <tbody>\n",
       "    <tr>\n",
       "      <th>count</th>\n",
       "      <td>30.000000</td>\n",
       "      <td>30.000000</td>\n",
       "    </tr>\n",
       "    <tr>\n",
       "      <th>mean</th>\n",
       "      <td>5.313333</td>\n",
       "      <td>76003.000000</td>\n",
       "    </tr>\n",
       "    <tr>\n",
       "      <th>std</th>\n",
       "      <td>2.837888</td>\n",
       "      <td>27414.429785</td>\n",
       "    </tr>\n",
       "    <tr>\n",
       "      <th>min</th>\n",
       "      <td>1.100000</td>\n",
       "      <td>37731.000000</td>\n",
       "    </tr>\n",
       "    <tr>\n",
       "      <th>25%</th>\n",
       "      <td>3.200000</td>\n",
       "      <td>56720.750000</td>\n",
       "    </tr>\n",
       "    <tr>\n",
       "      <th>50%</th>\n",
       "      <td>4.700000</td>\n",
       "      <td>65237.000000</td>\n",
       "    </tr>\n",
       "    <tr>\n",
       "      <th>75%</th>\n",
       "      <td>7.700000</td>\n",
       "      <td>100544.750000</td>\n",
       "    </tr>\n",
       "    <tr>\n",
       "      <th>max</th>\n",
       "      <td>10.500000</td>\n",
       "      <td>122391.000000</td>\n",
       "    </tr>\n",
       "  </tbody>\n",
       "</table>\n",
       "</div>"
      ],
      "text/plain": [
       "       YearsExperience         Salary\n",
       "count        30.000000      30.000000\n",
       "mean          5.313333   76003.000000\n",
       "std           2.837888   27414.429785\n",
       "min           1.100000   37731.000000\n",
       "25%           3.200000   56720.750000\n",
       "50%           4.700000   65237.000000\n",
       "75%           7.700000  100544.750000\n",
       "max          10.500000  122391.000000"
      ]
     },
     "execution_count": 6,
     "metadata": {},
     "output_type": "execute_result"
    }
   ],
   "source": [
    "# afficher le resume statistique dataset/salaire \n",
    "df_salaire.describe()\n",
    "# Count : nombre de samples\n",
    "# mean : le moyenne \n",
    "# std  : écart-type il mesure la despersion des valeurs \n",
    "# min  : valeur minimum\n",
    "# 25%  :le premier quartile (Q1)\n",
    "# 50%  : le median\n",
    "# 75%  : la troisieme quartile (Q3)\n",
    "# max : valeur maximum "
   ]
  },
  {
   "cell_type": "code",
   "execution_count": 7,
   "id": "44e22787",
   "metadata": {
    "scrolled": true
   },
   "outputs": [
    {
     "data": {
      "text/html": [
       "<div>\n",
       "<style scoped>\n",
       "    .dataframe tbody tr th:only-of-type {\n",
       "        vertical-align: middle;\n",
       "    }\n",
       "\n",
       "    .dataframe tbody tr th {\n",
       "        vertical-align: top;\n",
       "    }\n",
       "\n",
       "    .dataframe thead th {\n",
       "        text-align: right;\n",
       "    }\n",
       "</style>\n",
       "<table border=\"1\" class=\"dataframe\">\n",
       "  <thead>\n",
       "    <tr style=\"text-align: right;\">\n",
       "      <th></th>\n",
       "      <th>age</th>\n",
       "      <th>sex</th>\n",
       "      <th>bmi</th>\n",
       "      <th>children</th>\n",
       "      <th>smoker</th>\n",
       "      <th>region</th>\n",
       "      <th>charges</th>\n",
       "    </tr>\n",
       "  </thead>\n",
       "  <tbody>\n",
       "    <tr>\n",
       "      <th>count</th>\n",
       "      <td>1338.000000</td>\n",
       "      <td>1338.000000</td>\n",
       "      <td>1338.000000</td>\n",
       "      <td>1338.000000</td>\n",
       "      <td>1338.000000</td>\n",
       "      <td>1338.000000</td>\n",
       "      <td>1338.000000</td>\n",
       "    </tr>\n",
       "    <tr>\n",
       "      <th>mean</th>\n",
       "      <td>39.207025</td>\n",
       "      <td>0.505232</td>\n",
       "      <td>30.663397</td>\n",
       "      <td>1.094918</td>\n",
       "      <td>0.204783</td>\n",
       "      <td>1.484305</td>\n",
       "      <td>13270.422265</td>\n",
       "    </tr>\n",
       "    <tr>\n",
       "      <th>std</th>\n",
       "      <td>14.049960</td>\n",
       "      <td>0.500160</td>\n",
       "      <td>6.098187</td>\n",
       "      <td>1.205493</td>\n",
       "      <td>0.403694</td>\n",
       "      <td>1.104885</td>\n",
       "      <td>12110.011237</td>\n",
       "    </tr>\n",
       "    <tr>\n",
       "      <th>min</th>\n",
       "      <td>18.000000</td>\n",
       "      <td>0.000000</td>\n",
       "      <td>15.960000</td>\n",
       "      <td>0.000000</td>\n",
       "      <td>0.000000</td>\n",
       "      <td>0.000000</td>\n",
       "      <td>1121.873900</td>\n",
       "    </tr>\n",
       "    <tr>\n",
       "      <th>25%</th>\n",
       "      <td>27.000000</td>\n",
       "      <td>0.000000</td>\n",
       "      <td>26.296250</td>\n",
       "      <td>0.000000</td>\n",
       "      <td>0.000000</td>\n",
       "      <td>1.000000</td>\n",
       "      <td>4740.287150</td>\n",
       "    </tr>\n",
       "    <tr>\n",
       "      <th>50%</th>\n",
       "      <td>39.000000</td>\n",
       "      <td>1.000000</td>\n",
       "      <td>30.400000</td>\n",
       "      <td>1.000000</td>\n",
       "      <td>0.000000</td>\n",
       "      <td>1.000000</td>\n",
       "      <td>9382.033000</td>\n",
       "    </tr>\n",
       "    <tr>\n",
       "      <th>75%</th>\n",
       "      <td>51.000000</td>\n",
       "      <td>1.000000</td>\n",
       "      <td>34.693750</td>\n",
       "      <td>2.000000</td>\n",
       "      <td>0.000000</td>\n",
       "      <td>2.000000</td>\n",
       "      <td>16639.912515</td>\n",
       "    </tr>\n",
       "    <tr>\n",
       "      <th>max</th>\n",
       "      <td>64.000000</td>\n",
       "      <td>1.000000</td>\n",
       "      <td>53.130000</td>\n",
       "      <td>5.000000</td>\n",
       "      <td>1.000000</td>\n",
       "      <td>3.000000</td>\n",
       "      <td>63770.428010</td>\n",
       "    </tr>\n",
       "  </tbody>\n",
       "</table>\n",
       "</div>"
      ],
      "text/plain": [
       "               age          sex          bmi     children       smoker  \\\n",
       "count  1338.000000  1338.000000  1338.000000  1338.000000  1338.000000   \n",
       "mean     39.207025     0.505232    30.663397     1.094918     0.204783   \n",
       "std      14.049960     0.500160     6.098187     1.205493     0.403694   \n",
       "min      18.000000     0.000000    15.960000     0.000000     0.000000   \n",
       "25%      27.000000     0.000000    26.296250     0.000000     0.000000   \n",
       "50%      39.000000     1.000000    30.400000     1.000000     0.000000   \n",
       "75%      51.000000     1.000000    34.693750     2.000000     0.000000   \n",
       "max      64.000000     1.000000    53.130000     5.000000     1.000000   \n",
       "\n",
       "            region       charges  \n",
       "count  1338.000000   1338.000000  \n",
       "mean      1.484305  13270.422265  \n",
       "std       1.104885  12110.011237  \n",
       "min       0.000000   1121.873900  \n",
       "25%       1.000000   4740.287150  \n",
       "50%       1.000000   9382.033000  \n",
       "75%       2.000000  16639.912515  \n",
       "max       3.000000  63770.428010  "
      ]
     },
     "execution_count": 7,
     "metadata": {},
     "output_type": "execute_result"
    }
   ],
   "source": [
    "# afficher le resume statistique dataset/assurance \n",
    "df_assurance.describe()"
   ]
  },
  {
   "cell_type": "code",
   "execution_count": 8,
   "id": "de5a9b37",
   "metadata": {},
   "outputs": [
    {
     "data": {
      "text/plain": [
       "[<matplotlib.lines.Line2D at 0x22c43fe3af0>]"
      ]
     },
     "execution_count": 8,
     "metadata": {},
     "output_type": "execute_result"
    },
    {
     "data": {
      "image/png": "[encoded data removed]",
      "text/plain": [
       "<Figure size 640x480 with 1 Axes>"
      ]
     },
     "metadata": {},
     "output_type": "display_data"
    }
   ],
   "source": [
    "# la nuage des points du  data set « Expérience / Salaire » \n",
    "X =  df_salaire[['YearsExperience']]\n",
    "Y = df_salaire[['Salary']]\n",
    "plt.plot(X, Y, \"b.\",label='Expérience / Salaire')"
   ]
  },
  {
   "cell_type": "code",
   "execution_count": 9,
   "id": "b8533f19",
   "metadata": {},
   "outputs": [
    {
     "data": {
      "image/png": "[encoded data removed]",
      "text/plain": [
       "<Figure size 640x480 with 49 Axes>"
      ]
     },
     "metadata": {},
     "output_type": "display_data"
    }
   ],
   "source": [
    "#  nuages des points du  data set assurance selon les propriétés « Features »\n",
    "scatter_matrix(df_assurance)\n",
    "plt.show()\n",
    "# scatter_matrix : Elle affiche la relation entre chaque paire de variables numériques dans notre ensemble de donnees "
   ]
  },
  {
   "cell_type": "markdown",
   "id": "8b655032",
   "metadata": {},
   "source": [
    "# II - Régression Simple cas Expérience Salaire"
   ]
  },
  {
   "cell_type": "code",
   "execution_count": 10,
   "id": "2450ae33",
   "metadata": {},
   "outputs": [],
   "source": [
    "#  entraîner le modèle par algorithme de la régression linière\n",
    "# deviser les donnees , 20% pour le test\n",
    "X_train, X_test, y_train, y_test = train_test_split(X, Y, test_size=0.2,random_state=0)"
   ]
  },
  {
   "cell_type": "code",
   "execution_count": 11,
   "id": "130f6477",
   "metadata": {},
   "outputs": [
    {
     "data": {
      "text/plain": [
       "LinearRegression()"
      ]
     },
     "execution_count": 11,
     "metadata": {},
     "output_type": "execute_result"
    }
   ],
   "source": [
    "# Ajustement de module \n",
    "regressor = LinearRegression()\n",
    "regressor.fit(X_train, y_train)"
   ]
  },
  {
   "cell_type": "code",
   "execution_count": 12,
   "id": "526af4e5",
   "metadata": {},
   "outputs": [
    {
     "name": "stdout",
     "output_type": "stream",
     "text": [
      "la pente de la droite est  :  [[9312.57512673]]\n",
      "intercepterest  :  [26780.09915063]\n"
     ]
    }
   ],
   "source": [
    "print(\"la pente de la droite est  : \",regressor.coef_)\n",
    "print(\"intercepterest  : \",regressor.intercept_)"
   ]
  },
  {
   "cell_type": "code",
   "execution_count": 13,
   "id": "443ec0e4",
   "metadata": {},
   "outputs": [
    {
     "data": {
      "text/html": [
       "<div>\n",
       "<style scoped>\n",
       "    .dataframe tbody tr th:only-of-type {\n",
       "        vertical-align: middle;\n",
       "    }\n",
       "\n",
       "    .dataframe tbody tr th {\n",
       "        vertical-align: top;\n",
       "    }\n",
       "\n",
       "    .dataframe thead th {\n",
       "        text-align: right;\n",
       "    }\n",
       "</style>\n",
       "<table border=\"1\" class=\"dataframe\">\n",
       "  <thead>\n",
       "    <tr style=\"text-align: right;\">\n",
       "      <th></th>\n",
       "      <th>Real</th>\n",
       "      <th>Predict</th>\n",
       "    </tr>\n",
       "  </thead>\n",
       "  <tbody>\n",
       "    <tr>\n",
       "      <th>0</th>\n",
       "      <td>[37731.0]</td>\n",
       "      <td>[40748.96184072197]</td>\n",
       "    </tr>\n",
       "    <tr>\n",
       "      <th>1</th>\n",
       "      <td>[122391.0]</td>\n",
       "      <td>[122699.62295593882]</td>\n",
       "    </tr>\n",
       "    <tr>\n",
       "      <th>2</th>\n",
       "      <td>[57081.0]</td>\n",
       "      <td>[64961.65717021785]</td>\n",
       "    </tr>\n",
       "    <tr>\n",
       "      <th>3</th>\n",
       "      <td>[63218.0]</td>\n",
       "      <td>[63099.142144872014]</td>\n",
       "    </tr>\n",
       "    <tr>\n",
       "      <th>4</th>\n",
       "      <td>[116969.0]</td>\n",
       "      <td>[115249.56285455546]</td>\n",
       "    </tr>\n",
       "    <tr>\n",
       "      <th>5</th>\n",
       "      <td>[109431.0]</td>\n",
       "      <td>[107799.50275317211]</td>\n",
       "    </tr>\n",
       "  </tbody>\n",
       "</table>\n",
       "</div>"
      ],
      "text/plain": [
       "         Real               Predict\n",
       "0   [37731.0]   [40748.96184072197]\n",
       "1  [122391.0]  [122699.62295593882]\n",
       "2   [57081.0]   [64961.65717021785]\n",
       "3   [63218.0]  [63099.142144872014]\n",
       "4  [116969.0]  [115249.56285455546]\n",
       "5  [109431.0]  [107799.50275317211]"
      ]
     },
     "execution_count": 13,
     "metadata": {},
     "output_type": "execute_result"
    }
   ],
   "source": [
    "# prédire les données d’un data set de test\n",
    "Y_predict = regressor.predict(X_test)\n",
    "y_test = y_test.values\n",
    "pred = pd.DataFrame({'Real':y_test.tolist(),'Predict':Y_predict.tolist()})\n",
    "pred"
   ]
  },
  {
   "cell_type": "code",
   "execution_count": 14,
   "id": "1b8efa0d",
   "metadata": {},
   "outputs": [
    {
     "data": {
      "image/png": "[encoded data removed]",
      "text/plain": [
       "<Figure size 640x480 with 1 Axes>"
      ]
     },
     "metadata": {},
     "output_type": "display_data"
    }
   ],
   "source": [
    "# Visualiser le résultat de la régression sous forme d’un graphe\n",
    "X_predict = regressor.predict(X_train)\n",
    "plt.plot(X_train, X_predict , color=\"r\")\n",
    "plt.plot(X, Y, \"b.\")\n",
    "plt.xlabel(\"YearsExperience\")\n",
    "plt.ylabel(\"Salary\")\n",
    "plt.show()"
   ]
  },
  {
   "cell_type": "code",
   "execution_count": 15,
   "id": "ed6011f0",
   "metadata": {},
   "outputs": [
    {
     "name": "stdout",
     "output_type": "stream",
     "text": [
      "Mean Absolute Error: 2446.1723690465064\n",
      "Mean Squared Error: 12823412.298126562\n",
      "Root Mean Squared Error: 3580.979237321345\n"
     ]
    }
   ],
   "source": [
    "#Évaluer le modèle en utilisant ces trois méthodes \n",
    "# calcule la valeur de l'erreur absolue moyenne\n",
    "print('Mean Absolute Error:', metrics.mean_absolute_error(y_test, Y_predict)) \n",
    "# calculer  l'erreur quadratique moyenne\n",
    "print('Mean Squared Error:', metrics.mean_squared_error(y_test, Y_predict)) \n",
    "print('Root Mean Squared Error:', np.sqrt(metrics.mean_squared_error(y_test, Y_predict)))"
   ]
  },
  {
   "cell_type": "markdown",
   "id": "4c222b9b",
   "metadata": {},
   "source": [
    "# III -  Régression multiple cas d’assurance \n"
   ]
  },
  {
   "cell_type": "code",
   "execution_count": 16,
   "id": "fd04f764",
   "metadata": {},
   "outputs": [],
   "source": [
    "# entraîner le modèle par intermédiaire de algorithme de la régression linière\n",
    "X_assurance = df_assurance.iloc[:, :-1].values\n",
    "Y_assurance = df_assurance.iloc[:, 6].values\n",
    "# deviser les donnes  avec 20% pour les donnes de Test\n",
    "X_train_assu, X_test_assu, y_train_assu, y_test_assu = train_test_split(X_assurance, Y_assurance, test_size=0.2,random_state=0)"
   ]
  },
  {
   "cell_type": "code",
   "execution_count": 17,
   "id": "70183802",
   "metadata": {},
   "outputs": [
    {
     "data": {
      "text/plain": [
       "LinearRegression()"
      ]
     },
     "execution_count": 17,
     "metadata": {},
     "output_type": "execute_result"
    }
   ],
   "source": [
    "# Ajustement de module \n",
    "regressor_assurance = LinearRegression()\n",
    "regressor_assurance.fit(X_train_assu, y_train_assu)"
   ]
  },
  {
   "cell_type": "code",
   "execution_count": 18,
   "id": "704801c8",
   "metadata": {},
   "outputs": [
    {
     "name": "stdout",
     "output_type": "stream",
     "text": [
      "intercept  :  -12527.509626455549\n"
     ]
    },
    {
     "data": {
      "text/html": [
       "<div>\n",
       "<style scoped>\n",
       "    .dataframe tbody tr th:only-of-type {\n",
       "        vertical-align: middle;\n",
       "    }\n",
       "\n",
       "    .dataframe tbody tr th {\n",
       "        vertical-align: top;\n",
       "    }\n",
       "\n",
       "    .dataframe thead th {\n",
       "        text-align: right;\n",
       "    }\n",
       "</style>\n",
       "<table border=\"1\" class=\"dataframe\">\n",
       "  <thead>\n",
       "    <tr style=\"text-align: right;\">\n",
       "      <th></th>\n",
       "      <th>cofficient</th>\n",
       "    </tr>\n",
       "  </thead>\n",
       "  <tbody>\n",
       "    <tr>\n",
       "      <th>age</th>\n",
       "      <td>253.991852</td>\n",
       "    </tr>\n",
       "    <tr>\n",
       "      <th>sex</th>\n",
       "      <td>-24.324551</td>\n",
       "    </tr>\n",
       "    <tr>\n",
       "      <th>bmi</th>\n",
       "      <td>328.402617</td>\n",
       "    </tr>\n",
       "    <tr>\n",
       "      <th>children</th>\n",
       "      <td>443.729295</td>\n",
       "    </tr>\n",
       "    <tr>\n",
       "      <th>smoker</th>\n",
       "      <td>23568.879484</td>\n",
       "    </tr>\n",
       "    <tr>\n",
       "      <th>region</th>\n",
       "      <td>288.508573</td>\n",
       "    </tr>\n",
       "  </tbody>\n",
       "</table>\n",
       "</div>"
      ],
      "text/plain": [
       "            cofficient\n",
       "age         253.991852\n",
       "sex         -24.324551\n",
       "bmi         328.402617\n",
       "children    443.729295\n",
       "smoker    23568.879484\n",
       "region      288.508573"
      ]
     },
     "execution_count": 18,
     "metadata": {},
     "output_type": "execute_result"
    }
   ],
   "source": [
    "# la pente\n",
    "print(\"intercept  : \",regressor_assurance.intercept_)\n",
    "# les coefficients\n",
    "columns = df_assurance.iloc[:, :-1].columns\n",
    "pd.DataFrame(regressor_assurance.coef_,columns ,columns = ['cofficient'])"
   ]
  },
  {
   "cell_type": "code",
   "execution_count": 19,
   "id": "027e23bc",
   "metadata": {},
   "outputs": [
    {
     "data": {
      "text/html": [
       "<div>\n",
       "<style scoped>\n",
       "    .dataframe tbody tr th:only-of-type {\n",
       "        vertical-align: middle;\n",
       "    }\n",
       "\n",
       "    .dataframe tbody tr th {\n",
       "        vertical-align: top;\n",
       "    }\n",
       "\n",
       "    .dataframe thead th {\n",
       "        text-align: right;\n",
       "    }\n",
       "</style>\n",
       "<table border=\"1\" class=\"dataframe\">\n",
       "  <thead>\n",
       "    <tr style=\"text-align: right;\">\n",
       "      <th></th>\n",
       "      <th>Real</th>\n",
       "      <th>Predict</th>\n",
       "    </tr>\n",
       "  </thead>\n",
       "  <tbody>\n",
       "    <tr>\n",
       "      <th>0</th>\n",
       "      <td>9724.53000</td>\n",
       "      <td>11017.230479</td>\n",
       "    </tr>\n",
       "    <tr>\n",
       "      <th>1</th>\n",
       "      <td>8547.69130</td>\n",
       "      <td>9787.530168</td>\n",
       "    </tr>\n",
       "    <tr>\n",
       "      <th>2</th>\n",
       "      <td>45702.02235</td>\n",
       "      <td>37994.782118</td>\n",
       "    </tr>\n",
       "    <tr>\n",
       "      <th>3</th>\n",
       "      <td>12950.07120</td>\n",
       "      <td>16122.778407</td>\n",
       "    </tr>\n",
       "    <tr>\n",
       "      <th>4</th>\n",
       "      <td>9644.25250</td>\n",
       "      <td>6930.759230</td>\n",
       "    </tr>\n",
       "    <tr>\n",
       "      <th>...</th>\n",
       "      <td>...</td>\n",
       "      <td>...</td>\n",
       "    </tr>\n",
       "    <tr>\n",
       "      <th>263</th>\n",
       "      <td>15019.76005</td>\n",
       "      <td>14699.098767</td>\n",
       "    </tr>\n",
       "    <tr>\n",
       "      <th>264</th>\n",
       "      <td>6664.68595</td>\n",
       "      <td>8210.854549</td>\n",
       "    </tr>\n",
       "    <tr>\n",
       "      <th>265</th>\n",
       "      <td>20709.02034</td>\n",
       "      <td>16019.284542</td>\n",
       "    </tr>\n",
       "    <tr>\n",
       "      <th>266</th>\n",
       "      <td>40932.42950</td>\n",
       "      <td>33104.944084</td>\n",
       "    </tr>\n",
       "    <tr>\n",
       "      <th>267</th>\n",
       "      <td>9500.57305</td>\n",
       "      <td>9471.247528</td>\n",
       "    </tr>\n",
       "  </tbody>\n",
       "</table>\n",
       "<p>268 rows × 2 columns</p>\n",
       "</div>"
      ],
      "text/plain": [
       "            Real       Predict\n",
       "0     9724.53000  11017.230479\n",
       "1     8547.69130   9787.530168\n",
       "2    45702.02235  37994.782118\n",
       "3    12950.07120  16122.778407\n",
       "4     9644.25250   6930.759230\n",
       "..           ...           ...\n",
       "263  15019.76005  14699.098767\n",
       "264   6664.68595   8210.854549\n",
       "265  20709.02034  16019.284542\n",
       "266  40932.42950  33104.944084\n",
       "267   9500.57305   9471.247528\n",
       "\n",
       "[268 rows x 2 columns]"
      ]
     },
     "execution_count": 19,
     "metadata": {},
     "output_type": "execute_result"
    }
   ],
   "source": [
    "# prédire les données d’un data set de test\n",
    "Y_predict_assu = regressor_assurance.predict(X_test_assu)\n",
    "pred = pd.DataFrame({'Real':y_test_assu.tolist(),'Predict':Y_predict_assu.tolist()})\n",
    "pred"
   ]
  },
  {
   "cell_type": "code",
   "execution_count": 20,
   "id": "c3cf3110",
   "metadata": {},
   "outputs": [
    {
     "data": {
      "text/plain": [
       "<matplotlib.collections.PathCollection at 0x22c467386d0>"
      ]
     },
     "execution_count": 20,
     "metadata": {},
     "output_type": "execute_result"
    },
    {
     "data": {
      "image/png": "[encoded data removed]",
      "text/plain": [
       "<Figure size 640x480 with 1 Axes>"
      ]
     },
     "metadata": {},
     "output_type": "display_data"
    }
   ],
   "source": [
    "# Visualiser le résultat de la régression sous forme d’un graphe\n",
    "# on affiche la prediction des donnees de test en fonction des vrais target , \n",
    "# on voit pas une droite , ou quelque chose proche d'une droite , donc c'est pas un bon regresseur\n",
    "Y_predict_assu = regressor_assurance.predict(X_test_assu)\n",
    "plt.scatter(y_test_assu ,Y_predict_assu )"
   ]
  },
  {
   "cell_type": "code",
   "execution_count": 21,
   "id": "2e2fbd77",
   "metadata": {},
   "outputs": [],
   "source": [
    "# Évaluer le modèle en utilisant ces trois méthodes"
   ]
  },
  {
   "cell_type": "code",
   "execution_count": 22,
   "id": "9daa42f0",
   "metadata": {},
   "outputs": [
    {
     "name": "stdout",
     "output_type": "stream",
     "text": [
      "Mean Absolute Error: 3930.3332739011435\n",
      "Mean Squared Error: 31845929.134159435\n",
      "Root Mean Squared Error: 5643.219748880902\n"
     ]
    }
   ],
   "source": [
    "# calcule la valeur de l'erreur absolue moyenne\n",
    "print('Mean Absolute Error:', metrics.mean_absolute_error(y_test_assu, Y_predict_assu)) \n",
    "# calculer  l'erreur quadratique moyenne\n",
    "print('Mean Squared Error:', metrics.mean_squared_error(y_test_assu, Y_predict_assu)) \n",
    "print('Root Mean Squared Error:', np.sqrt(metrics.mean_squared_error(y_test_assu, Y_predict_assu)))\n",
    "# la valeur de MAE est eleve donc le model n'est pas precis"
   ]
  },
  {
   "cell_type": "markdown",
   "id": "154d56e6",
   "metadata": {},
   "source": [
    "# IV - Régression linière polynomial multiple cas de china GDP"
   ]
  },
  {
   "cell_type": "code",
   "execution_count": 78,
   "id": "78bddccb",
   "metadata": {},
   "outputs": [],
   "source": [
    "# exploration des donnees "
   ]
  },
  {
   "cell_type": "code",
   "execution_count": 79,
   "id": "c0b265a9",
   "metadata": {},
   "outputs": [
    {
     "data": {
      "text/html": [
       "<div>\n",
       "<style scoped>\n",
       "    .dataframe tbody tr th:only-of-type {\n",
       "        vertical-align: middle;\n",
       "    }\n",
       "\n",
       "    .dataframe tbody tr th {\n",
       "        vertical-align: top;\n",
       "    }\n",
       "\n",
       "    .dataframe thead th {\n",
       "        text-align: right;\n",
       "    }\n",
       "</style>\n",
       "<table border=\"1\" class=\"dataframe\">\n",
       "  <thead>\n",
       "    <tr style=\"text-align: right;\">\n",
       "      <th></th>\n",
       "      <th>Year</th>\n",
       "      <th>Value</th>\n",
       "    </tr>\n",
       "  </thead>\n",
       "  <tbody>\n",
       "    <tr>\n",
       "      <th>0</th>\n",
       "      <td>1960</td>\n",
       "      <td>5.918412e+10</td>\n",
       "    </tr>\n",
       "    <tr>\n",
       "      <th>1</th>\n",
       "      <td>1961</td>\n",
       "      <td>4.955705e+10</td>\n",
       "    </tr>\n",
       "    <tr>\n",
       "      <th>2</th>\n",
       "      <td>1962</td>\n",
       "      <td>4.668518e+10</td>\n",
       "    </tr>\n",
       "    <tr>\n",
       "      <th>3</th>\n",
       "      <td>1963</td>\n",
       "      <td>5.009730e+10</td>\n",
       "    </tr>\n",
       "  </tbody>\n",
       "</table>\n",
       "</div>"
      ],
      "text/plain": [
       "   Year         Value\n",
       "0  1960  5.918412e+10\n",
       "1  1961  4.955705e+10\n",
       "2  1962  4.668518e+10\n",
       "3  1963  5.009730e+10"
      ]
     },
     "execution_count": 79,
     "metadata": {},
     "output_type": "execute_result"
    }
   ],
   "source": [
    "df_china_gdp = pd.read_csv(\"datasets/china_gdp.csv\")\n",
    "df_china_gdp.head(4)"
   ]
  },
  {
   "cell_type": "code",
   "execution_count": 80,
   "id": "3a060bba",
   "metadata": {},
   "outputs": [],
   "source": [
    "# entraîner le modèle par intermédiaire de algorithme de la régression linière \n",
    "\n",
    "# 1- separer les features et sample\n",
    "X_GDP = df_china_gdp[['Year']].values\n",
    "Y_GDP = df_china_gdp[['Value']].values"
   ]
  },
  {
   "cell_type": "code",
   "execution_count": 81,
   "id": "d4b3b8be",
   "metadata": {},
   "outputs": [],
   "source": [
    "# 2- deviser les donnees , 20% pour le test\n",
    "X_train_GDP, X_test_GDP, Y_train_GDP, Y_test_GDP = train_test_split(X_GDP, Y_GDP, test_size=0.2,random_state=0)"
   ]
  },
  {
   "cell_type": "code",
   "execution_count": 82,
   "id": "9e8591f2",
   "metadata": {},
   "outputs": [
    {
     "data": {
      "text/plain": [
       "LinearRegression()"
      ]
     },
     "execution_count": 82,
     "metadata": {},
     "output_type": "execute_result"
    }
   ],
   "source": [
    "# 3- Ajustement de module \n",
    "regressor_regLinaire = LinearRegression()\n",
    "regressor_regLinaire.fit(X_train_GDP, Y_train_GDP)"
   ]
  },
  {
   "cell_type": "code",
   "execution_count": 90,
   "id": "21cb9d3e",
   "metadata": {},
   "outputs": [
    {
     "data": {
      "text/plain": [
       "LinearRegression()"
      ]
     },
     "execution_count": 90,
     "metadata": {},
     "output_type": "execute_result"
    }
   ],
   "source": [
    "# entraîner le modèle par intermédiaire de algorithm la régression linière polynomiale \n",
    "\n",
    "# 1- explorer la polynome\n",
    "poly = PolynomialFeatures(degree=3, include_bias=True) \n",
    "# 2- transformer les données d'entraînement et de test en utilisant une fonction de transformation polynomiale \n",
    "X_GDP_trans = poly.fit_transform(X_GDP) \n",
    "X_train_GDP_trans = poly.fit_transform(X_train_GDP) \n",
    "X_test_GDP_trans = poly.transform(X_test_GDP)\n",
    "# 3 - Ajustement de module \n",
    "regressor_polynomiale = LinearRegression()\n",
    "regressor_polynomiale.fit(X_train_GDP_trans, Y_train_GDP)\n"
   ]
  },
  {
   "cell_type": "code",
   "execution_count": 91,
   "id": "73eabc50",
   "metadata": {},
   "outputs": [
    {
     "data": {
      "text/plain": [
       "array([[ 3.94452574e+12],\n",
       "       [ 2.39649151e+12],\n",
       "       [ 3.29951148e+12],\n",
       "       [ 1.49347154e+12],\n",
       "       [-4.41571253e+11],\n",
       "       [-1.60259693e+12],\n",
       "       [ 2.26748865e+12],\n",
       "       [ 3.68652003e+12],\n",
       "       [ 4.07352859e+12],\n",
       "       [ 2.00948295e+12],\n",
       "       [-1.34459122e+12]])"
      ]
     },
     "execution_count": 91,
     "metadata": {},
     "output_type": "execute_result"
    }
   ],
   "source": [
    "# prédire les données d’un data set de test pour les deux modèles\n",
    "# 1- regression linaire \n",
    "Y_test_GDP_pred_lin = regressor_regLinaire.predict(X_test_GDP)\n",
    "Y_test_GDP_pred_lin"
   ]
  },
  {
   "cell_type": "code",
   "execution_count": 92,
   "id": "822ee170",
   "metadata": {},
   "outputs": [
    {
     "data": {
      "text/plain": [
       "array([[ 3.41513916e+12],\n",
       "       [ 1.28340457e+11],\n",
       "       [ 1.47533570e+12],\n",
       "       [-1.21078854e+11],\n",
       "       [ 4.74277613e+11],\n",
       "       [-2.24446121e+11],\n",
       "       [ 3.83812846e+10],\n",
       "       [ 2.52536303e+12],\n",
       "       [ 3.92178112e+12],\n",
       "       [-8.07738765e+10],\n",
       "       [ 8.18531069e+10]])"
      ]
     },
     "execution_count": 92,
     "metadata": {},
     "output_type": "execute_result"
    }
   ],
   "source": [
    "# 2- regression linaire polinomiale\n",
    "Y_test_GDP_pred_poli = regressor_polynomiale.predict(X_test_GDP_trans)\n",
    "Y_test_GDP_pred_poli"
   ]
  },
  {
   "cell_type": "code",
   "execution_count": 93,
   "id": "11f19af1",
   "metadata": {},
   "outputs": [
    {
     "data": {
      "text/plain": [
       "[<matplotlib.lines.Line2D at 0x22c477575b0>]"
      ]
     },
     "execution_count": 93,
     "metadata": {},
     "output_type": "execute_result"
    },
    {
     "data": {
      "image/png": "[encoded data removed]",
      "text/plain": [
       "<Figure size 640x480 with 1 Axes>"
      ]
     },
     "metadata": {},
     "output_type": "display_data"
    }
   ],
   "source": [
    "# Visualiser le résultat de la régression sous forme d’un graphe des deux modèles.\n",
    "plt.scatter(X_GDP,Y_GDP , color='yellow')\n",
    "plt.plot(X_GDP,regressor_regLinaire.predict(X_GDP),color='red')\n",
    "plt.plot(X_GDP,regressor_polynomiale.predict(X_GDP_trans),color='green')"
   ]
  },
  {
   "cell_type": "code",
   "execution_count": 94,
   "id": "7b393e98",
   "metadata": {},
   "outputs": [
    {
     "name": "stdout",
     "output_type": "stream",
     "text": [
      "Mean Absolute Error: 1580448121034.8318\n",
      "Mean Squared Error: 2.6811931196364024e+24\n",
      "Root Mean Squared Error: 1637434920733.1577\n"
     ]
    }
   ],
   "source": [
    "# 1 - Évaluer le model de regression linaire\n",
    "\n",
    "# calcule la valeur de l'erreur absolue moyenne\n",
    "print('Mean Absolute Error:', metrics.mean_absolute_error(Y_test_GDP, Y_test_GDP_pred_lin)) \n",
    "# calculer  l'erreur quadratique moyenne\n",
    "print('Mean Squared Error:', metrics.mean_squared_error(Y_test_GDP, Y_test_GDP_pred_lin)) \n",
    "print('Root Mean Squared Error:', np.sqrt(metrics.mean_squared_error(Y_test_GDP, Y_test_GDP_pred_lin)))"
   ]
  },
  {
   "cell_type": "code",
   "execution_count": 96,
   "id": "ac1d5526",
   "metadata": {},
   "outputs": [
    {
     "name": "stdout",
     "output_type": "stream",
     "text": [
      "Mean Absolute Error: 519491190192.197\n",
      "Mean Squared Error: 4.007242352290313e+23\n",
      "Root Mean Squared Error: 633027831322.6294\n"
     ]
    }
   ],
   "source": [
    "# 2 - Évaluer le model de regression linaire polinomiale\n",
    "\n",
    "# calcule la valeur de l'erreur absolue moyenne\n",
    "print('Mean Absolute Error:', metrics.mean_absolute_error(Y_test_GDP, Y_test_GDP_pred_poli)) \n",
    "# calculer  l'erreur quadratique moyenne\n",
    "print('Mean Squared Error:', metrics.mean_squared_error(Y_test_GDP, Y_test_GDP_pred_poli)) \n",
    "print('Root Mean Squared Error:', np.sqrt(metrics.mean_squared_error(Y_test_GDP, Y_test_GDP_pred_poli)))"
   ]
  },
  {
   "cell_type": "markdown",
   "id": "170f41cf",
   "metadata": {},
   "source": []
  },
  {
   "cell_type": "code",
   "execution_count": null,
   "id": "5c9ccaea",
   "metadata": {},
   "outputs": [],
   "source": [
    "# intrepretation \n",
    "# L'erreur est  plus élevée dans un modèle de régression linaire par rapport  à un modèle de régression linéaire polynomial\n",
    "# ce qui fait le modèle polynomial plus précis que le modèle linéaire pour résoudre le problème de prédiction linaire \n",
    "# lorsque le data set n'a pas une forme linaire ."
   ]
  }
 ],
 "metadata": {
  "kernelspec": {
   "display_name": "Python 3 (ipykernel)",
   "language": "python",
   "name": "python3"
  },
  "language_info": {
   "codemirror_mode": {
    "name": "ipython",
    "version": 3
   },
   "file_extension": ".py",
   "mimetype": "text/x-python",
   "name": "python",
   "nbconvert_exporter": "python",
   "pygments_lexer": "ipython3",
   "version": "3.9.13"
  }
 },
 "nbformat": 4,
 "nbformat_minor": 5
}
